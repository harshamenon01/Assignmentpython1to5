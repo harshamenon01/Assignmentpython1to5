{
 "cells": [
  {
   "cell_type": "markdown",
   "metadata": {},
   "source": [
    "# 2.1. Problem Statement: PYTHON 1"
   ]
  },
  {
   "attachments": {},
   "cell_type": "markdown",
   "metadata": {},
   "source": [
    "### 1. Install Jupyter notebook and run the first program and share the screenshot of the output.\n",
    "\n"
   ]
  },
  {
   "cell_type": "markdown",
   "metadata": {},
   "source": [
    "### 2. Write a program which will find all such numbers which are divisible by 7 but are not a multiple of 5, between 2000 and 3200 (both included). The numbers obtained should be printed in a comma-separated sequence on a single line."
   ]
  },
  {
   "cell_type": "code",
   "execution_count": 1,
   "metadata": {
    "scrolled": true
   },
   "outputs": [
    {
     "name": "stdout",
     "output_type": "stream",
     "text": [
      "[2002, 2009, 2016, 2023, 2037, 2044, 2051, 2058, 2072, 2079, 2086, 2093, 2107, 2114, 2121, 2128, 2142, 2149, 2156, 2163, 2177, 2184, 2191, 2198, 2212, 2219, 2226, 2233, 2247, 2254, 2261, 2268, 2282, 2289, 2296, 2303, 2317, 2324, 2331, 2338, 2352, 2359, 2366, 2373, 2387, 2394, 2401, 2408, 2422, 2429, 2436, 2443, 2457, 2464, 2471, 2478, 2492, 2499, 2506, 2513, 2527, 2534, 2541, 2548, 2562, 2569, 2576, 2583, 2597, 2604, 2611, 2618, 2632, 2639, 2646, 2653, 2667, 2674, 2681, 2688, 2702, 2709, 2716, 2723, 2737, 2744, 2751, 2758, 2772, 2779, 2786, 2793, 2807, 2814, 2821, 2828, 2842, 2849, 2856, 2863, 2877, 2884, 2891, 2898, 2912, 2919, 2926, 2933, 2947, 2954, 2961, 2968, 2982, 2989, 2996, 3003, 3017, 3024, 3031, 3038, 3052, 3059, 3066, 3073, 3087, 3094, 3101, 3108, 3122, 3129, 3136, 3143, 3157, 3164, 3171, 3178, 3192, 3199]\n"
     ]
    }
   ],
   "source": [
    "a = [i for i in range (2000, 3200) if i%7 == 0 and i%5!=0]\n",
    "print(a)"
   ]
  },
  {
   "cell_type": "markdown",
   "metadata": {},
   "source": [
    "### 3. Write a Python program to accept the user's first and last name and then getting them printed in the the reverse order with a space between first name and last name."
   ]
  },
  {
   "cell_type": "code",
   "execution_count": 2,
   "metadata": {},
   "outputs": [
    {
     "name": "stdout",
     "output_type": "stream",
     "text": [
      "firstName LastName:harsha menon\n",
      "menon harsha\n"
     ]
    }
   ],
   "source": [
    "userName = input('firstName LastName:' )\n",
    "print(userName.split()[1] +  ' ' + userName.split()[0])"
   ]
  },
  {
   "cell_type": "markdown",
   "metadata": {},
   "source": [
    "### 4. Write a Python program to find the volume of a sphere with diameter 12 cm.Formula: V=4/3 * π * r 3"
   ]
  },
  {
   "cell_type": "code",
   "execution_count": 3,
   "metadata": {},
   "outputs": [
    {
     "name": "stdout",
     "output_type": "stream",
     "text": [
      "904.3199999999999\n",
      "The volume of the sphere is: 904.320000\n"
     ]
    }
   ],
   "source": [
    "pi = 3.14\n",
    "d = 12\n",
    "r = d/2\n",
    "V = 4/3 * pi * r** 3\n",
    "print(V)\n",
    "print ('The volume of the sphere is: %f'% V)"
   ]
  },
  {
   "cell_type": "markdown",
   "metadata": {},
   "source": [
    "# 2.2. Problem Statement: PYTHON 2"
   ]
  },
  {
   "cell_type": "markdown",
   "metadata": {},
   "source": [
    "### 1. Write a program which accepts a sequence of comma-separated numbers from console and generate a list."
   ]
  },
  {
   "cell_type": "code",
   "execution_count": 4,
   "metadata": {},
   "outputs": [
    {
     "name": "stdout",
     "output_type": "stream",
     "text": [
      "Enter a sequence of comma-seperated numbers:1,2,3,4,5\n",
      "[1, 2, 3, 4, 5]\n"
     ]
    }
   ],
   "source": [
    "i = input('Enter a sequence of comma-seperated numbers:')\n",
    "l = [int(li) for li in i.split(',')]\n",
    "print(l)"
   ]
  },
  {
   "cell_type": "markdown",
   "metadata": {},
   "source": [
    "### 2 Create the below pattern using nested for loop in Python.\n",
    "            *\n",
    "            * *\n",
    "            * * *\n",
    "            * * * *\n",
    "            * * * * *\n",
    "            * * * *\n",
    "            * * *\n",
    "            * *\n",
    "            *"
   ]
  },
  {
   "cell_type": "code",
   "execution_count": 5,
   "metadata": {},
   "outputs": [
    {
     "name": "stdout",
     "output_type": "stream",
     "text": [
      "\n",
      "* \n",
      "* * \n",
      "* * * \n",
      "* * * * \n",
      "* * * * * \n",
      "* * * * \n",
      "* * * \n",
      "* * \n",
      "* \n"
     ]
    }
   ],
   "source": [
    "n = 5\n",
    "r = n*2\n",
    "for i in range(r):\n",
    "    s= ''\n",
    "    for j in range (i):\n",
    "        if i <= n:\n",
    "            print('* ' , end =\"\")\n",
    "        elif j <= r - (i +1):\n",
    "             print('* ' , end =\"\")\n",
    "             \n",
    "    print('')"
   ]
  },
  {
   "cell_type": "markdown",
   "metadata": {},
   "source": [
    "### 3. Write a Python program to reverse a word after accepting the input from the user.\n",
    "### Sample Output:\n",
    "\n",
    "### Input word: AcadGild\n",
    "### Output: dilGdacA"
   ]
  },
  {
   "cell_type": "code",
   "execution_count": 6,
   "metadata": {},
   "outputs": [
    {
     "name": "stdout",
     "output_type": "stream",
     "text": [
      "Enter a word:AcadGild\n",
      "dliGdacA"
     ]
    }
   ],
   "source": [
    "i = input('Enter a word:')\n",
    "for s in range(len(i),0,-1):\n",
    "    print(i[s-1], end=\"\")\n"
   ]
  },
  {
   "cell_type": "markdown",
   "metadata": {},
   "source": [
    "### 4. Write a Python Program to print the given string in the format specified in the\n",
    "### sample output.\n",
    "### WE, THE PEOPLE OF INDIA, having solemnly resolved to constitute India into a SOVEREIGN,\n",
    "### SOCIALIST, SECULAR, DEMOCRATIC REPUBLIC and to secure to all its citizens\n",
    "### Sample Output:\n",
    "### WE, THE PEOPLE OF INDIA,\n",
    "###     having solemnly resolved to constitute India into a SOVEREIGN, !\n",
    "###         SOCIALIST, SECULAR, DEMOCRATIC\n",
    "###         REPUBLIC and to secure to all its citizens"
   ]
  },
  {
   "cell_type": "code",
   "execution_count": 7,
   "metadata": {},
   "outputs": [
    {
     "name": "stdout",
     "output_type": "stream",
     "text": [
      "WE, THE PEOPLE OF INDIA,\n",
      "\t having solemnly resolved to constitute India into a SOVEREIGN,\n",
      "\t\tSOCIALIST, SECULAR, DEMOCRATIC\n",
      "\t\t REPUBLIC and to secure to all its citizens\n"
     ]
    }
   ],
   "source": [
    "print('WE, THE PEOPLE OF INDIA,' + '\\n\\t having solemnly resolved to constitute India into a SOVEREIGN,' + '\\n\\t\\tSOCIALIST, SECULAR, DEMOCRATIC' + '\\n\\t\\t REPUBLIC and to secure to all its citizens')"
   ]
  },
  {
   "cell_type": "markdown",
   "metadata": {},
   "source": [
    "# 2.3. Problem Statement: PYTHON 3"
   ]
  },
  {
   "cell_type": "markdown",
   "metadata": {},
   "source": [
    "### 1.1. Write a Python Program to implement your own myreduce() function which works exactly\n",
    "### like Python's built-in function reduce()"
   ]
  },
  {
   "cell_type": "code",
   "execution_count": 8,
   "metadata": {},
   "outputs": [
    {
     "name": "stdout",
     "output_type": "stream",
     "text": [
      "10\n",
      "10\n"
     ]
    }
   ],
   "source": [
    "def myreduce(function, seq):\n",
    "    a = seq[0]\n",
    "    for s in seq[1:]:\n",
    "        b = s \n",
    "        a = function(a,b)\n",
    "    return a\n",
    "\n",
    "def add (a,b):\n",
    "    return a+b\n",
    "\n",
    "a = myreduce(add, [1,2,3,4])\n",
    "from functools import reduce\n",
    "b = reduce(add,[1,2,3,4])\n",
    "print(a)\n",
    "print(b)"
   ]
  },
  {
   "cell_type": "markdown",
   "metadata": {},
   "source": [
    "### 1.2. Write a Python program to implement your own myfilter() function which works exactly\n",
    "### like Python's built-in function filter()"
   ]
  },
  {
   "cell_type": "code",
   "execution_count": 9,
   "metadata": {},
   "outputs": [
    {
     "name": "stdout",
     "output_type": "stream",
     "text": [
      "[2, 4]\n",
      "[2, 4]\n"
     ]
    }
   ],
   "source": [
    "def test(a):\n",
    "    return a%2 == 0\n",
    "def myfilter(function, seq):\n",
    "    for s in seq:\n",
    "        if(function(s)):\n",
    "            yield(s)\n",
    "print(list(filter( test, [1,2,3,4,5])))\n",
    "print(list(myfilter(test, [1,2,3,4,5])))\n",
    "#print(myfilter(test, [1,2,3,4,5]))\n",
    "#print(filter( test, [1,2,3,4,5]))"
   ]
  },
  {
   "cell_type": "markdown",
   "metadata": {},
   "source": [
    "### 2. Implement List comprehensions to produce the following lists.\n",
    "### Write List comprehensions to produce the following Lists.\n",
    "### ['A', 'C', 'A', 'D', 'G', 'I', ’L’, ‘ D’]\n",
    "### ['x', 'xx', 'xxx', 'xxxx', 'y', 'yy', 'yyy', 'yyyy', 'z', 'zz', 'zzz', 'zzzz']\n",
    "### ['x', 'y', 'z', 'xx', 'yy', 'zz', 'xxx', 'yyy', 'zzz', 'xxxx', 'yyyy', 'zzzz']\n",
    "### [[2], [3], [4], [3], [4], [5], [4], [5], [6]] \n",
    "### [[2, 3, 4, 5], [3, 4, 5, 6], [4,5, 6, 7], [5, 6, 7, 8]]\n",
    "### [(1, 1), (2, 1), (3, 1), (1, 2), (2, 2), (3, 2), (1, 3), (2, 3), (3, 3)]"
   ]
  },
  {
   "cell_type": "code",
   "execution_count": 10,
   "metadata": {},
   "outputs": [
    {
     "name": "stdout",
     "output_type": "stream",
     "text": [
      "['A', 'C', 'A', 'D', 'G', 'I', 'L', 'D']\n"
     ]
    }
   ],
   "source": [
    "#for output list ['A', 'C', 'A', 'D', 'G', 'I', ’L’, ‘ D’]nu jfghfcjgfw\n",
    "word = 'ACADGILD'\n",
    "l = list(i for i in word)\n",
    "print(l)"
   ]
  },
  {
   "cell_type": "code",
   "execution_count": 11,
   "metadata": {},
   "outputs": [
    {
     "name": "stdout",
     "output_type": "stream",
     "text": [
      "['x', 'xx', 'xxx', 'xxxx', 'y', 'yy', 'yyy', 'yyyy', 'z', 'zz', 'zzz', 'zzzz']\n"
     ]
    }
   ],
   "source": [
    "# for output list ['x', 'xx', 'xxx', 'xxxx', 'y', 'yy', 'yyy', 'yyyy', 'z', 'zz', 'zzz', 'zzzz']\n",
    "mylist =['x','y','z'] \n",
    "nList = list( i*j for i in mylist for j in range(1,5))\n",
    "print(nList)"
   ]
  },
  {
   "cell_type": "code",
   "execution_count": 12,
   "metadata": {},
   "outputs": [
    {
     "name": "stdout",
     "output_type": "stream",
     "text": [
      "['x', 'y', 'z', 'xx', 'yy', 'zz', 'xxx', 'yyy', 'zzz', 'xxxx', 'yyyy', 'zzzz']\n"
     ]
    }
   ],
   "source": [
    "# for output list ['x', 'y', 'z', 'xx', 'yy', 'zz', 'xxx', 'yyy', 'zzz', 'xxxx', 'yyyy', 'zzzz']\n",
    "mylist =['x','y','z'] \n",
    "nList = list( i*j for j in range(1,5) for i in mylist )\n",
    "print(nList)"
   ]
  },
  {
   "cell_type": "code",
   "execution_count": 13,
   "metadata": {},
   "outputs": [
    {
     "name": "stdout",
     "output_type": "stream",
     "text": [
      "[[2], [3], [4], [3], [4], [5], [4], [5], [6]]\n"
     ]
    }
   ],
   "source": [
    "# for outputList = [[2], [3], [4], [3], [4], [5], [4], [5], [6]]\n",
    "mylist =[2,3,4]\n",
    "nList = list( [i+j]  for i in mylist for j in range(3) )\n",
    "print(nList)"
   ]
  },
  {
   "cell_type": "code",
   "execution_count": 14,
   "metadata": {},
   "outputs": [
    {
     "name": "stdout",
     "output_type": "stream",
     "text": [
      "[[2, 3, 4, 5], [3, 4, 5, 6], [4, 5, 6, 7], [5, 6, 7, 8]]\n"
     ]
    }
   ],
   "source": [
    "# for outputList = [[2, 3, 4, 5], [3, 4, 5, 6], [4, 5, 6, 7], [5, 6, 7, 8]]\n",
    "mylist =[2, 3, 4, 5]\n",
    "nList = list( [i+j  for i in mylist ]for j in range(4))\n",
    "print(nList)"
   ]
  },
  {
   "cell_type": "code",
   "execution_count": 15,
   "metadata": {},
   "outputs": [
    {
     "name": "stdout",
     "output_type": "stream",
     "text": [
      "[(1, 1), (2, 1), (3, 1), (1, 2), (2, 2), (3, 2), (1, 3), (2, 3), (3, 3)]\n"
     ]
    }
   ],
   "source": [
    "# for output list. = [(1, 1), (2, 1), (3, 1), (1, 2), (2, 2), (3, 2), (1, 3), (2, 3), (3, 3)]\n",
    "myList = [1,2,3]\n",
    "nList = [(i,j)  for j in myList for i in myList]\n",
    "print(nList)"
   ]
  },
  {
   "cell_type": "markdown",
   "metadata": {},
   "source": [
    "### 3. Implement a function longestWord() that takes a list of words and returns the longest one."
   ]
  },
  {
   "cell_type": "code",
   "execution_count": 16,
   "metadata": {},
   "outputs": [
    {
     "name": "stdout",
     "output_type": "stream",
     "text": [
      "Enter list of words:Harsha menon vadayath\n",
      "Longest word in the list is: vadayath\n"
     ]
    }
   ],
   "source": [
    "def longestWord(wordList):\n",
    "    n = [len(s) for s in wordList  ]\n",
    "    return wordList[n.index(max(n))]\n",
    "wordList = input('Enter list of words:').split()\n",
    "print('Longest word in the list is: ' + longestWord(wordList))"
   ]
  },
  {
   "cell_type": "markdown",
   "metadata": {},
   "source": [
    "# 2.4. Problem Statement: PYTHON 4"
   ]
  },
  {
   "cell_type": "markdown",
   "metadata": {},
   "source": [
    "### 1.1 Write a Python Program(with class concepts) to find the area of the triangle using the below\n",
    "### formula.\n",
    "### area = (s*(s-a)*(s-b)*(s-c)) ** 0.5\n",
    "### Function to take the length of the sides of triangle from user should be defined in the parent\n",
    "### class and function to calculate the area should be defined in subclass."
   ]
  },
  {
   "cell_type": "code",
   "execution_count": 17,
   "metadata": {},
   "outputs": [
    {
     "name": "stdout",
     "output_type": "stream",
     "text": [
      "Enter Length:2\n",
      "Enter breadth:4\n",
      "Enter height:7\n",
      "2\n",
      "4\n",
      "7\n",
      "(3.702531804508037e-16+6.046693311223912j)\n"
     ]
    }
   ],
   "source": [
    "class Triangle:\n",
    "    \n",
    "    def __init__(self ):\n",
    "        self.l = 0\n",
    "        self.h = 0\n",
    "        self.b = 0\n",
    "    def getSides(self):\n",
    "        self.l = int(input ('Enter Length:'))\n",
    "        self.b = int(input('Enter breadth:'))\n",
    "        self.h = int(input('Enter height:'))\n",
    "    def displaySides(self):\n",
    "        print(self.l)\n",
    "        print(self.b)\n",
    "        print(self.h)\n",
    "    def getLength(self):\n",
    "        return self.l\n",
    "    def getHeight(self):\n",
    "        return self.h\n",
    "    def getBreadth(self):\n",
    "        return self.b\n",
    "\n",
    "class Area(Triangle):\n",
    "    def __init__(self ):\n",
    "        Triangle.__init__(self)\n",
    "   \n",
    "    def calculate(self):\n",
    "        l = Triangle.getLength(self)\n",
    "        h = Triangle.getHeight(self)\n",
    "        b = Triangle.getBreadth(self)\n",
    "        s =  (l+b+h)/2\n",
    "        A = (s*(s-l)*(s-b)*(s-h)) ** 0.5\n",
    "        return A\n",
    " \n",
    "A = Area()\n",
    "A.getSides()\n",
    "A.displaySides()\n",
    "ar = A.calculate()\n",
    "print(ar)"
   ]
  },
  {
   "cell_type": "markdown",
   "metadata": {},
   "source": [
    "##### 1.2 Write a function filter_long_words() that takes a list of words and an integer n and returns\n",
    "### the list of words that are longer than n."
   ]
  },
  {
   "cell_type": "code",
   "execution_count": 18,
   "metadata": {},
   "outputs": [
    {
     "name": "stdout",
     "output_type": "stream",
     "text": [
      "Enter list of words:I am Harsha menon vadayath\n",
      "filtered list of words  greater than length 3:  ['Harsha', 'menon', 'vadayath']\n"
     ]
    }
   ],
   "source": [
    "def filter_long_words(wordList, n):\n",
    "   return [s for s in wordList if len(s)> n ]\n",
    "wordList = input('Enter list of words:').split()\n",
    "print ('filtered list of words  greater than length 3:  ', end =\"\")\n",
    "print( filter_long_words(wordList, 3))"
   ]
  },
  {
   "cell_type": "markdown",
   "metadata": {},
   "source": [
    "### 2.1 Write a Python program using function concept that maps list of words into a list of integers\n",
    "### representing the lengths of the corresponding words.\n",
    "### Hint: If a list [ ab,cde,erty] is passed on to the python function output should come as [2,3,4]\n",
    "### Here 2,3 and 4 are the lengths of the words in the list."
   ]
  },
  {
   "cell_type": "code",
   "execution_count": 19,
   "metadata": {},
   "outputs": [
    {
     "name": "stdout",
     "output_type": "stream",
     "text": [
      "Enter list of words:I am Harsha menon vadayath\n",
      "length of words list:  [1, 2, 6, 5, 8]\n"
     ]
    }
   ],
   "source": [
    "def mapWordLength(wordList):\n",
    "   return [len(s) for s in wordList  ]\n",
    "wordList = input('Enter list of words:').split()\n",
    "print ('length of words list:  ', end =\"\")\n",
    "print( mapWordLength(wordList))"
   ]
  },
  {
   "cell_type": "markdown",
   "metadata": {},
   "source": [
    "### 2.2 Write a Python function which takes a character (i.e. a string of length 1) and returns True if\n",
    "### it is a vowel, False otherwise."
   ]
  },
  {
   "cell_type": "code",
   "execution_count": 20,
   "metadata": {},
   "outputs": [
    {
     "name": "stdout",
     "output_type": "stream",
     "text": [
      "Enter a single character:q\n",
      "Character is a vowel:  False\n"
     ]
    }
   ],
   "source": [
    "def isVowel(s):\n",
    "    if len(s) >1:\n",
    "        return False\n",
    "    else:\n",
    "        return s in ['a','e','i','o','u']\n",
    "char = input('Enter a single character:') \n",
    "print ('Character is a vowel:  ', end =\"\")\n",
    "print( isVowel(char))"
   ]
  },
  {
   "cell_type": "markdown",
   "metadata": {},
   "source": [
    "# 2.5. Problem Statement: PYTHON 5"
   ]
  },
  {
   "cell_type": "markdown",
   "metadata": {},
   "source": [
    "### 1. Write a function to compute 5/0 and use try/except to catch the exceptions."
   ]
  },
  {
   "cell_type": "code",
   "execution_count": 21,
   "metadata": {},
   "outputs": [
    {
     "name": "stdout",
     "output_type": "stream",
     "text": [
      "Enter  dividend an integer:5\n",
      "Enter divisor an integer:0\n",
      "An ArithmeticError occured.\n"
     ]
    }
   ],
   "source": [
    "def divide(a, b):\n",
    "    try:\n",
    "        c = a/b\n",
    "    except ArithmeticError:\n",
    "        return 'An ArithmeticError occured.'\n",
    "    else:\n",
    "        return c\n",
    "\n",
    "a = int(input('Enter  dividend an integer:') )\n",
    "b = int(input('Enter divisor an integer:'))\n",
    "c = divide(a,b)\n",
    "print(c)"
   ]
  },
  {
   "cell_type": "markdown",
   "metadata": {},
   "source": [
    "### 2. Implement a Python program to generate all sentences where subject is in [\"Americans\",\n",
    "### \"Indians\"] and verb is in [\"Play\", \"watch\"] and the object is in [\"Baseball\",\"cricket\"].\n",
    "### Hint: Subject,Verb and Object should be declared in the program as shown below.\n",
    "### subjects=[\"Americans \",\"Indians\"]\n",
    "### verbs=[\"play\",\"watch\"]\n",
    "### objects=[\"Baseball\",\"Cricket\"]\n",
    "### Output should come as below:\n",
    "### Americans play Baseball.\n",
    "### Americans play Cricket."
   ]
  },
  {
   "cell_type": "code",
   "execution_count": 22,
   "metadata": {},
   "outputs": [
    {
     "name": "stdout",
     "output_type": "stream",
     "text": [
      "Americans  play Baseball\n",
      "Americans  play Cricket\n",
      "Americans  watch Baseball\n",
      "Americans  watch Cricket\n",
      "Indians play Baseball\n",
      "Indians play Cricket\n",
      "Indians watch Baseball\n",
      "Indians watch Cricket\n"
     ]
    }
   ],
   "source": [
    "subjects=[\"Americans \",\"Indians\"]\n",
    "verbs=[\"play\",\"watch\"]\n",
    "objects=[\"Baseball\",\"Cricket\"]\n",
    "sentences = [ s + ' ' + v + ' ' +o for s in subjects for v in verbs for o in objects]\n",
    "for s in sentences:\n",
    "    print(s)"
   ]
  },
  {
   "cell_type": "code",
   "execution_count": null,
   "metadata": {},
   "outputs": [],
   "source": []
  }
 ],
 "metadata": {
  "kernelspec": {
   "display_name": "Python 3",
   "language": "python",
   "name": "python3"
  },
  "language_info": {
   "codemirror_mode": {
    "name": "ipython",
    "version": 3
   },
   "file_extension": ".py",
   "mimetype": "text/x-python",
   "name": "python",
   "nbconvert_exporter": "python",
   "pygments_lexer": "ipython3",
   "version": "3.7.1"
  }
 },
 "nbformat": 4,
 "nbformat_minor": 2
}
